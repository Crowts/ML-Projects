{
 "cells": [
  {
   "cell_type": "code",
   "execution_count": 15,
   "metadata": {},
   "outputs": [],
   "source": [
    "import pandas as pd\n",
    "import numpy as np\n",
    "import matplotlib.pyplot as plt\n",
    "from sklearn.cluster import KMeans\n",
    "\n",
    "%matplotlib inline"
   ]
  },
  {
   "cell_type": "code",
   "execution_count": 3,
   "metadata": {},
   "outputs": [
    {
     "data": {
      "image/png": "[encoded data removed]",
      "text/plain": [
       "<matplotlib.figure.Figure at 0x7f61ed831cf8>"
      ]
     },
     "metadata": {},
     "output_type": "display_data"
    }
   ],
   "source": [
    "X= -2 * np.random.rand(100,2)\n",
    "X1 = 1 + 2 * np.random.rand(50,2)\n",
    "X[50:100, :] = X1\n",
    "plt.scatter(X[ : , 0], X[ :, 1], s = 50, c = 'b')\n",
    "plt.show()"
   ]
  },
  {
   "cell_type": "code",
   "execution_count": 4,
   "metadata": {},
   "outputs": [
    {
     "data": {
      "text/plain": [
       "KMeans(algorithm='auto', copy_x=True, init='k-means++', max_iter=300,\n",
       "    n_clusters=2, n_init=10, n_jobs=1, precompute_distances='auto',\n",
       "    random_state=None, tol=0.0001, verbose=0)"
      ]
     },
     "execution_count": 4,
     "metadata": {},
     "output_type": "execute_result"
    }
   ],
   "source": [
    "Kmean = KMeans(n_clusters=2)\n",
    "Kmean.fit(X)"
   ]
  },
  {
   "cell_type": "code",
   "execution_count": 11,
   "metadata": {},
   "outputs": [
    {
     "data": {
      "text/plain": [
       "(2, 2)"
      ]
     },
     "execution_count": 11,
     "metadata": {},
     "output_type": "execute_result"
    }
   ],
   "source": [
    "Kmean.cluster_centers_.shape"
   ]
  },
  {
   "cell_type": "code",
   "execution_count": 6,
   "metadata": {},
   "outputs": [
    {
     "data": {
      "image/png": "[encoded data removed]",
      "text/plain": [
       "<matplotlib.figure.Figure at 0x7f61e6307c50>"
      ]
     },
     "metadata": {},
     "output_type": "display_data"
    }
   ],
   "source": [
    "plt.scatter(X[ : , 0], X[ : , 1], s =50, c='b')\n",
    "plt.scatter(-0.88322711, -1.03332415, s=200, c='g', marker='s')\n",
    "plt.scatter(1.9368917, 2.18944465, s=200, c='r', marker='s')\n",
    "plt.show()"
   ]
  },
  {
   "cell_type": "code",
   "execution_count": 7,
   "metadata": {},
   "outputs": [
    {
     "data": {
      "text/plain": [
       "array([0, 0, 0, 0, 0, 0, 0, 0, 0, 0, 0, 0, 0, 0, 0, 0, 0, 0, 0, 0, 0, 0, 0,\n",
       "       0, 0, 0, 0, 0, 0, 0, 0, 0, 0, 0, 0, 0, 0, 0, 0, 0, 0, 0, 0, 0, 0, 0,\n",
       "       0, 0, 0, 0, 1, 1, 1, 1, 1, 1, 1, 1, 1, 1, 1, 1, 1, 1, 1, 1, 1, 1, 1,\n",
       "       1, 1, 1, 1, 1, 1, 1, 1, 1, 1, 1, 1, 1, 1, 1, 1, 1, 1, 1, 1, 1, 1, 1,\n",
       "       1, 1, 1, 1, 1, 1, 1, 1], dtype=int32)"
      ]
     },
     "execution_count": 7,
     "metadata": {},
     "output_type": "execute_result"
    }
   ],
   "source": [
    "Kmean.labels_"
   ]
  },
  {
   "cell_type": "code",
   "execution_count": 8,
   "metadata": {},
   "outputs": [
    {
     "data": {
      "text/plain": [
       "array([0], dtype=int32)"
      ]
     },
     "execution_count": 8,
     "metadata": {},
     "output_type": "execute_result"
    }
   ],
   "source": [
    "sample_test=np.array([-3.0,-3.0])\n",
    "second_test=sample_test.reshape(1, -1)\n",
    "Kmean.predict(second_test)"
   ]
  },
  {
   "cell_type": "markdown",
   "metadata": {},
   "source": [
    "## K-Means Implementation"
   ]
  },
  {
   "cell_type": "code",
   "execution_count": 9,
   "metadata": {},
   "outputs": [
    {
     "data": {
      "text/plain": [
       "((16631, 18), (4167613, 18))"
      ]
     },
     "execution_count": 9,
     "metadata": {},
     "output_type": "execute_result"
    }
   ],
   "source": [
    "import uproot as upr\n",
    "\n",
    "signal = upr.open(\"/home/theodore/Desktop/share/R21_A400_Z_vv_H250_yy_comb.root\")[\"tree\"]\n",
    "background = upr.open(\"/home/theodore/Desktop/share/R21_background_comb.root\")[\"tree\"]\n",
    "\n",
    "S = signal.pandas.df([\"Vertex_sumpt2_php\", \"Vertex_sumpt2_Pileup\", \"metsig\",\n",
    "                      \"N_j_central\",\"diff_sumpt2\", \"mu\", \"npvx\",\"dphij1met\", \n",
    "                      \"dphiyymet\", \"dphisjmet\", \"dphifjmet\", \"dphiyyj1\",\n",
    "                      \"jets_rpt1\", \"jets_jvf1\",\"jets_rpt2\", \"jets_jvf2\",\n",
    "                      \"jets_rpt3\", \"jets_jvf3\"])\n",
    "\n",
    "B1 = background.pandas.df([\"Vertex_sumpt2_php\", \"Vertex_sumpt2_Pileup\", \"metsig\",\n",
    "                           \"N_j_central\",\"diff_sumpt2\", \"mu\", \"npvx\",\"dphij1met\",\n",
    "                           \"dphiyymet\", \"dphisjmet\", \"dphifjmet\", \"dphiyyj1\",\n",
    "                           \"jets_rpt1\", \"jets_jvf1\", \"jets_rpt2\", \"jets_jvf2\",\n",
    "                           \"jets_rpt3\", \"jets_jvf3\"])\n",
    "S.shape, B1.shape"
   ]
  },
  {
   "cell_type": "code",
   "execution_count": 23,
   "metadata": {},
   "outputs": [
    {
     "data": {
      "image/png": "[encoded data removed]",
      "text/plain": [
       "<matplotlib.figure.Figure at 0x7f61b96580f0>"
      ]
     },
     "metadata": {},
     "output_type": "display_data"
    },
    {
     "data": {
      "text/plain": [
       "array([[  8.27769887e+02,   1.38954398e+02,   1.46111440e+00,\n",
       "          8.81496207e-01,   6.88815489e+02,   3.08005650e+01,\n",
       "          1.72234759e+01,   1.77215754e+00,   1.93576258e+00,\n",
       "         -1.19656168e-01,   2.34508146e-01,   2.18270224e+00,\n",
       "          5.06631260e-02,   1.16052228e-01,  -3.78770683e-01,\n",
       "         -3.96832653e-01,  -6.74475927e-01,  -7.04436102e-01],\n",
       "       [  3.01365566e+04,   1.22062592e+02,   1.45630467e+00,\n",
       "          2.25636579e+00,   3.00144940e+04,   3.12155243e+01,\n",
       "          1.74902802e+01,   1.66804134e+00,   1.70335773e+00,\n",
       "          2.65420636e-02,   2.90376786e-01,   2.46918998e+00,\n",
       "          5.77062541e-01,   7.74240794e-01,   2.03151605e-01,\n",
       "          3.26346265e-01,  -1.63443473e-01,  -1.18407377e-01]])"
      ]
     },
     "execution_count": 23,
     "metadata": {},
     "output_type": "execute_result"
    }
   ],
   "source": [
    "# Data\n",
    "from sklearn.utils import shuffle\n",
    "\n",
    "data = pd.concat([S,B1],axis=0)\n",
    "data1 = shuffle(data)\n",
    "data1.reset_index(inplace=True, drop=True)\n",
    "#data1.head(5)\n",
    "\n",
    "# Visualize the first 2 columns of the data\n",
    "plt.scatter(data1['Vertex_sumpt2_php'], data1['Vertex_sumpt2_Pileup'], s = 50, c = 'b')\n",
    "plt.show()\n",
    "\n",
    "# Specify K and fit the K-Means Algorithm to data\n",
    "from sklearn.cluster import KMeans\n",
    "\n",
    "Kmean = KMeans(n_clusters=2, init='k-means++', max_iter=100, copy_x=True, \n",
    "               precompute_distances='auto', algorithm='auto')\n",
    "Kmean.fit(data1)\n",
    "\n",
    "# Obtain final cluster centroid positions\n",
    "Kmean.cluster_centers_\n",
    "\n",
    "# Plot the final clusters\n",
    "# plt.scatter(data1['Vertex_sumpt2_php'], data1['Vertex_sumpt2_Pileup'], s =50, c='b')\n",
    "# plt.scatter(C[0:0], C[0:1], s=200, c='g', marker='s')\n",
    "# plt.scatter(C[1:0], C[1:1], s=200, c='r', marker='s')\n",
    "# plt.show()\n",
    "\n",
    "# # Get labels of data points in the clusters\n",
    "# Kmean.labels_\n",
    "\n",
    "# Predict cluster membership of data points\n",
    "# sample_test=b\n",
    "# second_test=sample_test.reshape(1, -1)\n",
    "# Kmean.predict(second_test)"
   ]
  },
  {
   "cell_type": "code",
   "execution_count": 27,
   "metadata": {},
   "outputs": [
    {
     "data": {
      "text/plain": [
       "(2, 18)"
      ]
     },
     "execution_count": 27,
     "metadata": {},
     "output_type": "execute_result"
    }
   ],
   "source": [
    "C = Kmean.cluster_centers_\n",
    "C.shape"
   ]
  },
  {
   "cell_type": "code",
   "execution_count": null,
   "metadata": {},
   "outputs": [],
   "source": [
    "#Plot the final clusters\n",
    "plt.scatter(data1['Vertex_sumpt2_php'], data1['Vertex_sumpt2_Pileup'], s =50, c='b')\n",
    "plt.scatter(C[0:0], C[0:1], s=200, c='g', marker='s')\n",
    "plt.scatter(C[1:0], C[1:1], s=200, c='r', marker='s')\n",
    "plt.show()"
   ]
  }
 ],
 "metadata": {
  "kernelspec": {
   "display_name": "Python 3",
   "language": "python",
   "name": "python3"
  },
  "language_info": {
   "codemirror_mode": {
    "name": "ipython",
    "version": 3
   },
   "file_extension": ".py",
   "mimetype": "text/x-python",
   "name": "python",
   "nbconvert_exporter": "python",
   "pygments_lexer": "ipython3",
   "version": "3.6.10"
  }
 },
 "nbformat": 4,
 "nbformat_minor": 2
}
